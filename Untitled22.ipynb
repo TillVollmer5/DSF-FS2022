{
  "nbformat": 4,
  "nbformat_minor": 0,
  "metadata": {
    "colab": {
      "provenance": [],
      "authorship_tag": "ABX9TyMdkTnjfW93zcgeDcXXKKJH",
      "include_colab_link": true
    },
    "kernelspec": {
      "name": "python3",
      "display_name": "Python 3"
    },
    "language_info": {
      "name": "python"
    }
  },
  "cells": [
    {
      "cell_type": "markdown",
      "metadata": {
        "id": "view-in-github",
        "colab_type": "text"
      },
      "source": [
        "<a href=\"https://colab.research.google.com/github/TillVollmer5/DSF-FS2022-Till-Vollmer/blob/main/Untitled22.ipynb\" target=\"_parent\"><img src=\"https://colab.research.google.com/assets/colab-badge.svg\" alt=\"Open In Colab\"/></a>"
      ]
    },
    {
      "cell_type": "code",
      "execution_count": 3,
      "metadata": {
        "colab": {
          "base_uri": "https://localhost:8080/"
        },
        "id": "KfR-nYBRVyD5",
        "outputId": "a13feafd-d027-472a-b95a-f462981846fd"
      },
      "outputs": [
        {
          "output_type": "stream",
          "name": "stdout",
          "text": [
            "Mounted at /content/drive\n"
          ]
        }
      ],
      "source": [
        "import matplotlib.pyplot as plt\n",
        "import numpy as np\n",
        "from google.colab import drive\n",
        "import pandas as pd\n",
        "import matplotlib.pyplot as plt\n",
        "from sklearn.decomposition import PCA\n",
        "from sklearn.preprocessing import StandardScaler\n",
        "\n",
        "drive.mount('/content/drive', force_remount = True)"
      ]
    },
    {
      "cell_type": "code",
      "source": [
        "Auto_5_gp_df = pd.read_csv('/content/drive/My Drive/unknown_screening_data/Auto5_PUF_120k_blank_filtered.csv')\n",
        "Auto_4_gp_df = pd.read_csv('/content/drive/My Drive/unknown_screening_data/Auto4_PUF_120k_blank_filtered.csv')\n",
        "Auto_3_gp_df = pd.read_csv('/content/drive/My Drive/unknown_screening_data/Auto3_PUF_120k_blank_filtered.csv')\n",
        "Auto_2_gp_df = pd.read_csv('/content/drive/My Drive/unknown_screening_data/Auto2_PUF_120k_blank_filtered.csv')\n",
        "Auto_1_gp_df = pd.read_csv('/content/drive/My Drive/unknown_screening_data/Auto1_PUF_120k_blank_filtered.csv')\n",
        "\n",
        "Auto_5_pm_df = pd.read_csv('/content/drive/My Drive/unknown_screening_data/Auto5_PF_120k_blank_filtered.csv')\n",
        "Auto_4_pm_df = pd.read_csv('/content/drive/My Drive/unknown_screening_data/Auto4_PF_120k_blank_filtered.csv')\n",
        "Auto_3_pm_df = pd.read_csv('/content/drive/My Drive/unknown_screening_data/Auto3_PF_120k_blank_filtered.csv')\n",
        "Auto_2_pm_df = pd.read_csv('/content/drive/My Drive/unknown_screening_data/Auto2_PF_120k_blank_filtered.csv')\n",
        "Auto_1_pm_df = pd.read_csv('/content/drive/My Drive/unknown_screening_data/Auto1_PF_120k_blank_filtered.csv')"
      ],
      "metadata": {
        "id": "jDBK5kN3V2MZ"
      },
      "execution_count": 4,
      "outputs": []
    },
    {
      "cell_type": "code",
      "source": [
        "def extract_elements(df):\n",
        "    def extract_elements_from_formula(formula):\n",
        "        elements = {'H': 0, 'C': 0, 'O': 0, 'N': 0, 'S': 0, 'Si': 0, 'Cl': 0, 'F': 0, 'Br': 0, 'i':0, 'B':0, 'I':0}\n",
        "\n",
        "        current_element = ''\n",
        "        current_count = ''\n",
        "\n",
        "        for char in formula:\n",
        "            if char.isalpha():\n",
        "                if current_element:\n",
        "                    # Update the count for the current element\n",
        "                    elements[current_element] += int(current_count) if current_count else 1\n",
        "                current_element = char\n",
        "                current_count = ''\n",
        "            elif char.isdigit():\n",
        "                current_count += char\n",
        "\n",
        "        # Handle the last element in the formula\n",
        "        elements[current_element] += int(current_count) if current_count else 1\n",
        "\n",
        "        return pd.Series(elements)\n",
        "\n",
        "    # Apply the extract_elements_from_formula function to the 'Formula (mol ion)' column\n",
        "    element_counts = df['Formula (mol ion)'].apply(extract_elements_from_formula)\n",
        "\n",
        "    # Merge the extracted element counts with the original DataFrame\n",
        "    df = pd.concat([df, element_counts], axis=1)\n",
        "\n",
        "    return df"
      ],
      "metadata": {
        "id": "fQmbytoKZaN4"
      },
      "execution_count": 22,
      "outputs": []
    },
    {
      "cell_type": "code",
      "source": [
        "Auto_5_pm_df = extract_elements(Auto_5_pm_df)\n",
        "\n",
        "print(Auto_5_pm_df.head())"
      ],
      "metadata": {
        "colab": {
          "base_uri": "https://localhost:8080/"
        },
        "id": "NzGRlJRBZmfg",
        "outputId": "5e5ab8e5-206f-489b-fada-986f46549733"
      },
      "execution_count": 24,
      "outputs": [
        {
          "output_type": "stream",
          "name": "stdout",
          "text": [
            "   Unnamed: 0                                 Component Name  Retention Time  \\\n",
            "0           0                      Pentane, 2,2,4-trimethyl-           5.103   \n",
            "1           1                              Diisopropyl ether           5.137   \n",
            "2           4  1,3-Dioxolane-4-methanol, 2,2-dimethyl-, (S)-           5.366   \n",
            "3           5                          Nonane, 4,5-dimethyl-           5.441   \n",
            "4           9          2-Ethylhexanal ethylene glycol acetal           5.681   \n",
            "\n",
            "   Reference m/z      Area   Height      TIC Formula (mol ion)     CAS No.  \\\n",
            "0      57.069939   4890906   555385   628553             C8H18    540-84-1   \n",
            "1      45.033524  23572329  1965952  3648645            C6H14O    108-20-3   \n",
            "2     117.054688    703277    55773   126728           C6H12O3  22323-82-6   \n",
            "3      43.054184  19210872  2863970  8108922            C11H24  17302-23-7   \n",
            "4      73.064819   5219653   728049  1344352          C10H20O2         NaN   \n",
            "\n",
            "      SI  ...  O  N  S  Si Cl  F  Br  i  B  I  \n",
            "0  880.0  ...  0  0  0   0  0  0   0  0  0  0  \n",
            "1  702.0  ...  1  0  0   0  0  0   0  0  0  0  \n",
            "2  546.0  ...  3  0  0   0  0  0   0  0  0  0  \n",
            "3  668.0  ...  0  0  0   0  0  0   0  0  0  0  \n",
            "4  739.0  ...  2  0  0   0  0  0   0  0  0  0  \n",
            "\n",
            "[5 rows x 48 columns]\n"
          ]
        }
      ]
    },
    {
      "cell_type": "code",
      "source": [
        "print(Auto_5_pm_df.columns)"
      ],
      "metadata": {
        "colab": {
          "base_uri": "https://localhost:8080/"
        },
        "id": "0D6CDLsJXYTg",
        "outputId": "8d3f208f-824c-4b46-9bf3-ce5e1348e7a6"
      },
      "execution_count": 5,
      "outputs": [
        {
          "output_type": "stream",
          "name": "stdout",
          "text": [
            "Index(['Unnamed: 0', 'Component Name', 'Retention Time', 'Reference m/z',\n",
            "       'Area', 'Height', 'TIC', 'Formula (mol ion)', 'CAS No.', 'SI', 'RSI',\n",
            "       'HRF Score', 'RHRF Score', 'Total Score', 'Selected Column Type',\n",
            "       'Calculated RI', 'Library RI', 'Delta RI', 'Library Name',\n",
            "       'Library ID Number', 'Sample Name', 'File name', 'Ion Type',\n",
            "       'Area Ratio'],\n",
            "      dtype='object')\n"
          ]
        }
      ]
    },
    {
      "cell_type": "code",
      "source": [
        "columns_for_pca = ['Retention Time', 'Area Ratio', 'Reference m/z', 'O', 'C', 'N', 'S', 'Cl', 'Br', 'F', 'Si', 'B', 'I']\n",
        "\n",
        "# Select the specified columns from the DataFrame\n",
        "selected_columns = Auto_5_pm_df[columns_for_pca]\n",
        "\n",
        "# Standardize the data (important for PCA)\n",
        "scaler = StandardScaler()\n",
        "scaled_data = scaler.fit_transform(selected_columns)\n",
        "\n",
        "# Apply PCA\n",
        "num_components = min(len(columns_for_pca), len(Auto_4_gp_df))\n",
        "pca = PCA(n_components=num_components)\n",
        "principal_components = pca.fit_transform(scaled_data)\n",
        "\n",
        "# Create a new DataFrame with the principal components\n",
        "columns_names = [f'PC{i+1}' for i in range(num_components)]\n",
        "pc_df = pd.DataFrame(data=principal_components, columns=columns_names)\n",
        "\n",
        "# Concatenate the original DataFrame with the PCA components\n",
        "result_df = pd.concat([Auto_4_gp_df, pc_df], axis=1)\n",
        "\n",
        "plt.scatter(result_df['PC1'], result_df['PC2'])\n",
        "plt.title('PCA Scatter Plot')\n",
        "plt.xlabel('Principal Component 1 (PC1)')\n",
        "plt.ylabel('Principal Component 2 (PC2)')\n",
        "plt.show()"
      ],
      "metadata": {
        "colab": {
          "base_uri": "https://localhost:8080/",
          "height": 472
        },
        "id": "WtnQrOZPXFf0",
        "outputId": "6f14f24a-2691-4652-de8a-51254f096b07"
      },
      "execution_count": 26,
      "outputs": [
        {
          "output_type": "display_data",
          "data": {
            "text/plain": [
              "<Figure size 640x480 with 1 Axes>"
            ],
            "image/png": "[encoded data removed]"
          },
          "metadata": {}
        }
      ]
    },
    {
      "cell_type": "code",
      "source": [],
      "metadata": {
        "id": "aNny6AuEYDqT"
      },
      "execution_count": null,
      "outputs": []
    }
  ]
}